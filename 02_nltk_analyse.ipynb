{
 "cells": [
  {
   "cell_type": "markdown",
   "metadata": {},
   "source": [
    "# Work with the Resume Text and Navie Bayer in scikit-learn \n",
    "\n",
    "## Agenda\n",
    "### Working with resume data\n",
    "<ul>\n",
    "    <li>read data from csv file</li>\n",
    "    <li>lemmatize and transform data</li>\n",
    "    <li>split and vectorize data</li>\n",
    "</ul>\n",
    "\n",
    "### Navie Bayes classification\n",
    "<ul>\n",
    "    <li>Building a Navie Bayes model</li>\n",
    "    <li>Comparing Navie Bayes with logistic regression</li>\n",
    "</ul>\n",
    "\n"
   ]
  },
  {
   "cell_type": "code",
   "execution_count": null,
   "metadata": {
    "scrolled": true
   },
   "outputs": [],
   "source": [
    "# load data from result.csv\n",
    "import pandas as pd\n",
    "result = pd.read_csv('result.csv')\n",
    "\n",
    "# print random sample to check the format\n",
    "result.sample(5)"
   ]
  },
  {
   "cell_type": "markdown",
   "metadata": {},
   "source": [
    "# Lemmatize and transform the data"
   ]
  },
  {
   "cell_type": "code",
   "execution_count": null,
   "metadata": {
    "scrolled": true
   },
   "outputs": [],
   "source": [
    "import nltk\n",
    "import re\n",
    "from nltk.corpus import stopwords\n",
    "from nltk.stem import SnowballStemmer\n",
    "from sklearn.model_selection import train_test_split\n",
    "from nltk.stem import WordNetLemmatizer\n",
    "lemmatizer = WordNetLemmatizer()\n",
    "\n",
    "# define lemma, stem and stopword\n",
    "lemmatizer = WordNetLemmatizer()\n",
    "stemmer = SnowballStemmer('english')\n",
    "words = set(stopwords.words('english'))\n",
    "\n",
    "# lemmatizer and remove stopword\n",
    "result['clean'] = result['description'].apply(lambda x: \" \".join([lemmatizer.lemmatize(i) for i in x.split() if i not in words]).lower())\n",
    "\n",
    "# remove the confuse title. i.e. both 'Data Scientist' and 'Data Analyst' in title\n",
    "result['title_c'] = result['title'].map(lambda x: 1 if 'Data Scientist' in x and 'Data Analyst' in x else 0)\n",
    "result.drop(result[result.title_c == 1].index, inplace = True)\n",
    "\n",
    "# define 'Data Scientist' as 1 'Data Analyst' as 0\n",
    "result['title_c'] = result['title'].map(lambda x: 1 if 'Data Scientist' in x else 0)\n",
    "\n",
    "# print random sample to check the format\n",
    "result.sample(5)"
   ]
  },
  {
   "cell_type": "markdown",
   "metadata": {},
   "source": [
    "# Split and vectorize the data"
   ]
  },
  {
   "cell_type": "code",
   "execution_count": null,
   "metadata": {},
   "outputs": [],
   "source": [
    "# load preprocess and fitting module from sklearn\n",
    "from sklearn.feature_extraction.text import CountVectorizer, TfidfVectorizer # feature_extraction\n",
    "from sklearn.naive_bayes import MultinomialNB, GaussianNB, BernoulliNB # navie_bayes\n",
    "from sklearn.linear_model import SGDClassifier\n",
    "from sklearn.linear_model import LogisticRegression # logisticRegression\n",
    "from sklearn.svm import SVC # SVM\n",
    "from sklearn.pipeline import Pipeline\n",
    "\n",
    "# build a pipeline\n",
    "text_clf = Pipeline([('vect', CountVectorizer(binary=True)),\n",
    "                     ('clf', BernoulliNB())\n",
    "                    ])\n",
    "\n",
    "# split (x,y) get train and test set\n",
    "X_train, X_test, y_train, y_test = train_test_split(result['clean'], result.title_c, test_size=0.2)\n",
    "text_clf.fit(X_train, y_train)"
   ]
  },
  {
   "cell_type": "markdown",
   "metadata": {},
   "source": [
    "# Perform Navie_bayes and the results"
   ]
  },
  {
   "cell_type": "code",
   "execution_count": null,
   "metadata": {},
   "outputs": [],
   "source": [
    "# predict y_pred from X_test using the training result\n",
    "y_pred_class = text_clf.predict(X_test)\n",
    "\n",
    "# print classification_report\n",
    "from sklearn import metrics\n",
    "print(metrics.classification_report(y_test,y_pred_class))"
   ]
  },
  {
   "cell_type": "code",
   "execution_count": null,
   "metadata": {
    "scrolled": true
   },
   "outputs": [],
   "source": [
    "# print confusion_matrix\n",
    "metrics.confusion_matrix(y_test, y_pred_class)"
   ]
  }
 ],
 "metadata": {
  "kernelspec": {
   "display_name": "Python 3",
   "language": "python",
   "name": "python3"
  },
  "language_info": {
   "codemirror_mode": {
    "name": "ipython",
    "version": 3
   },
   "file_extension": ".py",
   "mimetype": "text/x-python",
   "name": "python",
   "nbconvert_exporter": "python",
   "pygments_lexer": "ipython3",
   "version": "3.6.3"
  }
 },
 "nbformat": 4,
 "nbformat_minor": 2
}
