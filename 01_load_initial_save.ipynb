{
 "cells": [
  {
   "cell_type": "markdown",
   "metadata": {},
   "source": [
    "# Load json files an and find the related title"
   ]
  },
  {
   "cell_type": "code",
   "execution_count": null,
   "metadata": {},
   "outputs": [],
   "source": [
    "# load json files, get job title and work experience, save to two seperate DataFrame\n",
    "\n",
    "import json\n",
    "import os\n",
    "import pandas as pd\n",
    "path_resume='C:\\python\\data scientist'\n",
    "list_ds = []\n",
    "list_da = []\n",
    "def find_title(name,path,list_name):\n",
    "    for file in os.listdir(path):\n",
    "        with open(os.path.join(path,file)) as f:\n",
    "            json_result = json.load(f)\n",
    "            if json_result['work_experience'] != 'NA':\n",
    "                for e in json_result['work_experience']:\n",
    "                    if name in e['title'].lower() :\n",
    "                        list_name.append((e['title'], e['description']))\n",
    "    return list_name\n",
    "\n",
    "list_ds = find_title('data scientist',path_resume, list_ds)\n",
    "list_da = find_title('data analyst',path_resume, list_da)"
   ]
  },
  {
   "cell_type": "markdown",
   "metadata": {},
   "source": [
    "# Remove non-alphanumeric and save to csv file"
   ]
  },
  {
   "cell_type": "code",
   "execution_count": null,
   "metadata": {},
   "outputs": [],
   "source": [
    "# remove non-alphanumeric letter, concat the data to one DataFrem and save to a csv file\n",
    "labels = ['title', 'description']\n",
    "df_ds = pd.DataFrame.from_records(list_ds, columns=labels)\n",
    "df_da = pd.DataFrame.from_records(list_da, columns=labels)\n",
    "result = pd.concat([df_ds,df_da],ignore_index=True)\n",
    "result['description'].replace({r'[^a-zA-Z]+':' '}, regex=True, inplace=True)\n",
    "result.to_csv('result.csv', index=False)"
   ]
  }
 ],
 "metadata": {
  "kernelspec": {
   "display_name": "Python 3",
   "language": "python",
   "name": "python3"
  },
  "language_info": {
   "codemirror_mode": {
    "name": "ipython",
    "version": 3
   },
   "file_extension": ".py",
   "mimetype": "text/x-python",
   "name": "python",
   "nbconvert_exporter": "python",
   "pygments_lexer": "ipython3",
   "version": "3.6.3"
  }
 },
 "nbformat": 4,
 "nbformat_minor": 2
}
